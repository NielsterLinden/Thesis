{
 "cells": [
  {
   "cell_type": "code",
   "execution_count": 1,
   "id": "5d22e19f",
   "metadata": {},
   "outputs": [],
   "source": [
    "# Cell 1: Imports and setup\n",
    "import os\n",
    "\n",
    "import matplotlib.pyplot as plt\n",
    "import torch\n",
    "from omegaconf import OmegaConf\n",
    "\n",
    "from thesis_ml.data.h5_loader import H5TokenDataset\n",
    "from thesis_ml.models.vq_ae import VQAutoEncoder\n",
    "\n",
    "device = torch.device(\"cuda\" if torch.cuda.is_available() else \"cpu\")\n",
    "\n",
    "# Change this to the run you want to inspect\n",
    "run_dir = r\"C:\\Users\\niels\\Projects\\Thesis-Code\\Code\\Niels_repo\\outputs\\20251021-131421\"\n",
    "model_ckpt = os.path.join(run_dir, \"model.pt\")\n",
    "cfg_path   = os.path.join(run_dir, \"cfg.yaml\")"
   ]
  },
  {
   "cell_type": "code",
   "execution_count": 2,
   "id": "3714c92a",
   "metadata": {},
   "outputs": [
    {
     "name": "stdout",
     "output_type": "stream",
     "text": [
      "num test examples: 30207\n",
      "n_tokens (T): 18\n",
      "cont_dim: 4 globals: 2 num_types: 8\n"
     ]
    }
   ],
   "source": [
    "# Cell 2: Load config and dataset (uses same file/normalization as during training)\n",
    "cfg = OmegaConf.load(cfg_path)\n",
    "\n",
    "# Build dataset (computes mu/sd from TRAIN; exactly like training)\n",
    "ds = H5TokenDataset(cfg)\n",
    "test_ds = ds.get_split(\"test\")  # TensorDataset of (tokens_cont[T,4], tokens_id[T], globals[2])\n",
    "\n",
    "print(\"num test examples:\", len(test_ds))\n",
    "print(\"n_tokens (T):\", int(cfg.data.n_tokens))\n",
    "print(\"cont_dim:\", 4, \"globals:\", int(cfg.data.globals.size), \"num_types:\", ds.num_types)"
   ]
  },
  {
   "cell_type": "code",
   "execution_count": 3,
   "id": "46c61515",
   "metadata": {},
   "outputs": [
    {
     "name": "stdout",
     "output_type": "stream",
     "text": [
      "Loaded model from: C:\\Users\\niels\\Projects\\Thesis-Code\\Code\\Niels_repo\\outputs\\20251021-131421\\model.pt\n"
     ]
    },
    {
     "name": "stderr",
     "output_type": "stream",
     "text": [
      "C:\\Users\\niels\\AppData\\Local\\Temp\\ipykernel_35864\\4110386866.py:22: FutureWarning: You are using `torch.load` with `weights_only=False` (the current default value), which uses the default pickle module implicitly. It is possible to construct malicious pickle data which will execute arbitrary code during unpickling (See https://github.com/pytorch/pytorch/blob/main/SECURITY.md#untrusted-models for more details). In a future release, the default value for `weights_only` will be flipped to `True`. This limits the functions that could be executed during unpickling. Arbitrary objects will no longer be allowed to be loaded via this mode unless they are explicitly allowlisted by the user via `torch.serialization.add_safe_globals`. We recommend you start setting `weights_only=True` for any use case where you don't have full control of the loaded file. Please open an issue on GitHub for any issues related to this experimental feature.\n",
      "  state = torch.load(model_ckpt, map_location=device)\n"
     ]
    }
   ],
   "source": [
    "# Cell 3: Instantiate model and load weights\n",
    "model = VQAutoEncoder(\n",
    "    cont_dim=4,\n",
    "    num_types=ds.num_types,\n",
    "    id_embed_dim=int(cfg.model.id_embed_dim),\n",
    "    latent_dim=int(cfg.model.latent_dim),\n",
    "    codebook_size=int(cfg.model.codebook_size),\n",
    "    enc_hidden=list(cfg.model.enc_hidden),\n",
    "    dec_hidden=list(cfg.model.dec_hidden),\n",
    "    dropout=float(cfg.model.dropout),\n",
    "    act=str(cfg.model.activation),\n",
    "    beta=float(cfg.model.beta),\n",
    "    ema=bool(cfg.model.ema),\n",
    "    decay=float(cfg.model.ema_decay),\n",
    "    globals_head=bool(cfg.model.globals_head),\n",
    "    globals_size=int(cfg.data.globals.size),\n",
    "    globals_hidden=tuple(cfg.model.globals_hidden),\n",
    "    globals_beta=float(cfg.model.globals_beta),\n",
    "    id_ce_beta=float(cfg.model.get(\"id_ce_beta\", 0.0)),\n",
    ").to(device)\n",
    "\n",
    "state = torch.load(model_ckpt, map_location=device)\n",
    "model.load_state_dict(state)\n",
    "model.eval()\n",
    "\n",
    "print(\"Loaded model from:\", model_ckpt)"
   ]
  },
  {
   "cell_type": "code",
   "execution_count": null,
   "id": "6fbd3818",
   "metadata": {},
   "outputs": [],
   "source": [
    "# Cell 4: Helper to reconstruct full event and extract a single token (de-normalized)\n",
    "\n",
    "@torch.no_grad()\n",
    "def reconstruct_event(tokens_cont, tokens_id, gvec):\n",
    "    # inputs are single-event tensors: [T,4], [T], [2]\n",
    "    tc = tokens_cont.unsqueeze(0).to(device)  # [1,T,4]\n",
    "    ti = tokens_id.unsqueeze(0).to(device)    # [1,T]\n",
    "    # gl = gvec.unsqueeze(0).to(device)         # [1,2] (not used in decoder path, but kept for parity)\n",
    "\n",
    "    # Manually run encoder → quantizer → decoder to get x_hat (since forward returns losses only)\n",
    "    emb = model.id_emb(ti)                    # [1,T,id_embed_dim]\n",
    "    x   = torch.cat([tc, emb], dim=-1)        # [1,T,4+embed]\n",
    "    z_e = model.encoder(x)                    # [1,T,D]\n",
    "    z_q, _, _, perplex = model.quantizer(z_e) # [1,T,D]\n",
    "    x_hat = model.decoder(z_q)                # [1,T,4] (normalized space)\n",
    "\n",
    "    # De-normalize to original scale with train mu/sd\n",
    "    mu = ds.mu[0,0].to(device)  # [4]\n",
    "    sd = ds.sd[0,0].to(device)  # [4]\n",
    "    tc_denorm     = tc[0] * sd + mu          # [T,4]\n",
    "    x_hat_denorm  = x_hat[0] * sd + mu       # [T,4]\n",
    "\n",
    "    return {\n",
    "        \"x_hat_norm\": x_hat[0].cpu(),        # [T,4]\n",
    "        \"x_hat\": x_hat_denorm.cpu(),         # [T,4] de-normalized\n",
    "        \"orig_norm\": tc[0].cpu(),            # [T,4]\n",
    "        \"orig\": tc_denorm.cpu(),             # [T,4] de-normalized\n",
    "        \"perplexity\": float(perplex.cpu().item()),\n",
    "    }"
   ]
  },
  {
   "cell_type": "code",
   "execution_count": 5,
   "id": "2f2c3246",
   "metadata": {},
   "outputs": [
    {
     "name": "stdout",
     "output_type": "stream",
     "text": [
      "Event 0, Token 15\n",
      "Perplexity (event-level): 4.63734245300293\n",
      "Original (de-normalized): [0.0000000e+00 4.7683716e-07 0.0000000e+00 0.0000000e+00]\n",
      "Reconstruction (de-normalized): [ 0.02706289  0.010849    0.01306712 -0.00202765]\n"
     ]
    },
    {
     "data": {
      "image/png": "[encoded data removed]",
      "text/plain": [
       "<Figure size 500x300 with 1 Axes>"
      ]
     },
     "metadata": {},
     "output_type": "display_data"
    }
   ],
   "source": [
    "# Cell 5: Pick an event and a token index, then visualize\n",
    "event_idx = 0     # change this to inspect a different event from the test set\n",
    "token_idx = 15     # 0..T-1 (e.g., 0..17)\n",
    "\n",
    "tokens_cont, tokens_id, gvec = test_ds[event_idx]\n",
    "out = reconstruct_event(tokens_cont, tokens_id, gvec)\n",
    "\n",
    "orig = out[\"orig\"][token_idx]     # [4]\n",
    "recon = out[\"x_hat\"][token_idx]   # [4]\n",
    "\n",
    "print(f\"Event {event_idx}, Token {token_idx}\")\n",
    "print(\"Perplexity (event-level):\", out[\"perplexity\"])\n",
    "print(\"Original (de-normalized):\", orig.numpy())\n",
    "print(\"Reconstruction (de-normalized):\", recon.numpy())\n",
    "\n",
    "# Simple bar comparison\n",
    "feature_names = [\"f1\",\"f2\",\"f3\",\"f4\"]  # replace with actual names if you have them\n",
    "x = range(4)\n",
    "plt.figure(figsize=(5,3))\n",
    "plt.bar([i-0.2 for i in x], orig,  width=0.4, label=\"orig\")\n",
    "plt.bar([i+0.2 for i in x], recon, width=0.4, label=\"recon\")\n",
    "plt.xticks(x, feature_names)\n",
    "plt.title(f\"Event {event_idx}, Token {token_idx}\")\n",
    "plt.legend()\n",
    "plt.tight_layout()\n",
    "plt.show()"
   ]
  },
  {
   "cell_type": "code",
   "execution_count": null,
   "id": "cf119bc9",
   "metadata": {},
   "outputs": [
    {
     "data": {
      "image/png": "[encoded data removed]",
      "text/plain": [
       "<Figure size 600x300 with 1 Axes>"
      ]
     },
     "metadata": {},
     "output_type": "display_data"
    }
   ],
   "source": [
    "import torch\n",
    "\n",
    "# Cell 6 (optional): Inspect all tokens for an event at once\n",
    "event_idx = 0\n",
    "tokens_cont, tokens_id, gvec = test_ds[event_idx]\n",
    "out = reconstruct_event(tokens_cont, tokens_id, gvec)\n",
    "\n",
    "# L2 error per token (on de-normalized features)\n",
    "\n",
    "\n",
    "per_token_mse = ((out[\"orig\"] - out[\"x_hat\"])**2).mean(dim=1)  # [T]\n",
    "plt.figure(figsize=(6,3))\n",
    "plt.plot(per_token_mse.numpy(), marker=\"o\")\n",
    "plt.xlabel(\"token index\")\n",
    "plt.ylabel(\"MSE (denorm)\")\n",
    "plt.title(f\"Event {event_idx} - token-wise reconstruction error\")\n",
    "plt.tight_layout()\n",
    "plt.show()"
   ]
  },
  {
   "cell_type": "code",
   "execution_count": null,
   "id": "47310dcb",
   "metadata": {},
   "outputs": [
    {
     "name": "stdout",
     "output_type": "stream",
     "text": [
      "ipywidgets not available: name 'cfg' is not defined\n"
     ]
    }
   ],
   "source": [
    "# Cell 7 (optional, requires ipywidgets): interactive browsing\n",
    "# pip install ipywidgets if needed; in JupyterLab enable the extension\n",
    "try:\n",
    "    import ipywidgets as widgets\n",
    "    from IPython.display import clear_output, display\n",
    "\n",
    "    T = int(cfg.data.n_tokens)\n",
    "    def show(event_idx=0, token_idx=0):\n",
    "        tokens_cont, tokens_id, gvec = test_ds[event_idx]\n",
    "        out = reconstruct_event(tokens_cont, tokens_id, gvec)\n",
    "        orig = out[\"orig\"][token_idx]\n",
    "        recon = out[\"x_hat\"][token_idx]\n",
    "\n",
    "        clear_output(wait=True)\n",
    "        print(f\"Event {event_idx}, Token {token_idx} | Perplexity: {out['perplexity']:.3f}\")\n",
    "        x = range(4)\n",
    "        plt.figure(figsize=(5,3))\n",
    "        plt.bar([i-0.2 for i in x], orig,  width=0.4, label=\"orig\")\n",
    "        plt.bar([i+0.2 for i in x], recon, width=0.4, label=\"recon\")\n",
    "        plt.xticks(x, [\"f1\",\"f2\",\"f3\",\"f4\"])\n",
    "        plt.legend()\n",
    "        plt.tight_layout()\n",
    "        plt.show()\n",
    "\n",
    "    w_event = widgets.IntSlider(value=0, min=0, max=len(test_ds)-1, step=1, description=\"event\")\n",
    "    w_token = widgets.IntSlider(value=0, min=0, max=T-1, step=1, description=\"token\")\n",
    "\n",
    "    ui = widgets.VBox([w_event, w_token])\n",
    "    out_area = widgets.interactive_output(show, {\"event_idx\": w_event, \"token_idx\": w_token})\n",
    "    display(ui, out_area)\n",
    "except Exception as e:\n",
    "    print(\"ipywidgets not available:\", e)"
   ]
  },
  {
   "cell_type": "code",
   "execution_count": null,
   "id": "518dfb36",
   "metadata": {},
   "outputs": [],
   "source": []
  }
 ],
 "metadata": {
  "kernelspec": {
   "display_name": "Python 3",
   "language": "python",
   "name": "python3"
  },
  "language_info": {
   "codemirror_mode": {
    "name": "ipython",
    "version": 3
   },
   "file_extension": ".py",
   "mimetype": "text/x-python",
   "name": "python",
   "nbconvert_exporter": "python",
   "pygments_lexer": "ipython3",
   "version": "3.11.14"
  }
 },
 "nbformat": 4,
 "nbformat_minor": 5
}
