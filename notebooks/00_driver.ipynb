{
 "cells": [
  {
   "cell_type": "code",
   "execution_count": null,
   "metadata": {},
   "outputs": [],
   "source": [
    "%load_ext autoreload\n",
    "%autoreload 2"
   ]
  },
  {
   "cell_type": "code",
   "execution_count": null,
   "metadata": {},
   "outputs": [],
   "source": [
    "from pathlib import Path\n",
    "\n",
    "from omegaconf import OmegaConf\n",
    "\n",
    "cfg = OmegaConf.load(\"../configs/config.yaml\")\n",
    "print(OmegaConf.to_yaml(cfg))\n"
   ]
  },
  {
   "cell_type": "code",
   "execution_count": null,
   "metadata": {},
   "outputs": [],
   "source": [
    "from thesis_ml.train import train\n",
    "\n",
    "res = train(cfg)\n",
    "res\n"
   ]
  },
  {
   "cell_type": "code",
   "execution_count": null,
   "metadata": {},
   "outputs": [],
   "source": [
    "from IPython.display import Image, display\n",
    "\n",
    "if cfg.logging.save_artifacts and res.get(\"saved_to\"):\n",
    "    loss_png = Path(res[\"saved_to\"]) / \"loss.png\"\n",
    "    if loss_png.exists():\n",
    "        display(Image(filename=str(loss_png)))\n",
    "    else:\n",
    "        print(\"loss.png not found\")\n",
    "else:\n",
    "    print(\"Artifacts were not persisted (save_artifacts=false)\")\n"
   ]
  }
 ],
 "metadata": {
  "kernelspec": {
   "display_name": "Python 3",
   "language": "python",
   "name": "python3"
  },
  "language_info": {
   "codemirror_mode": {
    "name": "ipython",
    "version": 3
   },
   "file_extension": ".py",
   "mimetype": "text/x-python",
   "name": "python",
   "nbconvert_exporter": "python",
   "pygments_lexer": "ipython3",
   "version": "3.11.13"
  }
 },
 "nbformat": 4,
 "nbformat_minor": 2
}
