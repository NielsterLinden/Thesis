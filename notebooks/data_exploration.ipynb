{
 "cells": [
  {
   "cell_type": "code",
   "execution_count": 10,
   "id": "e98f436f",
   "metadata": {},
   "outputs": [
    {
     "name": "stdout",
     "output_type": "stream",
     "text": [
      "Highest object ID found: 7 in event #0\n",
      "Full event (92 values):\n",
      "[ 1.         1.         2.         1.         1.         2.\n",
      "  1.         1.         1.         1.         7.         7.\n",
      "  0.         0.         0.         0.         0.         0.\n",
      " 12.665205  -1.69364   13.256132  13.077981   0.614043   0.840753\n",
      " 12.409001  12.365262  -0.262914   2.12246   12.2425585 12.1561365\n",
      "  0.332848  -2.30185   12.047141  11.615067   0.976658   2.46584\n",
      " 12.655415  11.591422   1.72255   -2.93997   11.918877  11.19038\n",
      "  1.35338   -0.279991  11.355758  10.675483   1.29663    1.6476\n",
      " 12.221577  10.649353   2.25405   -1.8143    10.393254  10.234179\n",
      "  0.539404  -0.323164  10.629402  10.1781645  1.02075   -2.02433\n",
      " 12.767994  12.322535   1.01527   -2.0265    11.847253  11.646783\n",
      "  0.654543  -0.372967   0.         0.         0.         0.\n",
      "  0.         0.         0.         0.         0.         0.\n",
      "  0.         0.         0.         0.         0.         0.\n",
      "  0.         0.         0.         0.         0.         0.\n",
      "  0.         0.       ]\n"
     ]
    }
   ],
   "source": [
    "\n",
    "import h5py\n",
    "import numpy as np\n",
    "\n",
    "path = r\"C:\\Users\\niels\\Projects\\Thesis-Code\\Data\\4tops_splitted.h5\"\n",
    "\n",
    "with h5py.File(path, \"r\") as f:\n",
    "    X = f[\"X_train\"]  # (N, 92)\n",
    "    T = 18\n",
    "\n",
    "    max_id = -np.inf\n",
    "    max_evt = -1\n",
    "    max_evt_data = None\n",
    "\n",
    "    for i, evt in enumerate(X):\n",
    "        ids = evt[:T]                  # first 18 entries are IDs\n",
    "        evt_max = ids.max()\n",
    "        if evt_max > max_id:\n",
    "            max_id = evt_max\n",
    "            max_evt = i\n",
    "            max_evt_data = evt\n",
    "\n",
    "    print(f\"Highest object ID found: {int(max_id)} in event #{max_evt}\")\n",
    "    print(\"Full event (92 values):\")\n",
    "    print(max_evt_data)\n",
    "\n"
   ]
  },
  {
   "cell_type": "code",
   "execution_count": null,
   "id": "10a3aa7b",
   "metadata": {},
   "outputs": [],
   "source": []
  }
 ],
 "metadata": {
  "kernelspec": {
   "display_name": "Python 3",
   "language": "python",
   "name": "python3"
  },
  "language_info": {
   "codemirror_mode": {
    "name": "ipython",
    "version": 3
   },
   "file_extension": ".py",
   "mimetype": "text/x-python",
   "name": "python",
   "nbconvert_exporter": "python",
   "pygments_lexer": "ipython3",
   "version": "3.11.14"
  }
 },
 "nbformat": 4,
 "nbformat_minor": 5
}
